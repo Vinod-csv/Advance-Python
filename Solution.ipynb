{
 "cells": [
  {
   "cell_type": "code",
   "execution_count": 1,
   "metadata": {},
   "outputs": [
    {
     "name": "stdout",
     "output_type": "stream",
     "text": [
      "* \n",
      "* * \n",
      "* * * \n",
      "* * * * \n",
      "* * * \n",
      "* * \n",
      "* \n"
     ]
    }
   ],
   "source": [
    "#1. Write a program to print the following pattern :\n",
    "for i in range(1, 4):\n",
    "    for j in range(i):\n",
    "        print('*', end=' ')\n",
    "    print()\n",
    "for i in range (4,0,-1):\n",
    "    for J in range (i):\n",
    "        print(\"*\", end=\" \")\n",
    "    print() \n",
    "        "
   ]
  },
  {
   "cell_type": "code",
   "execution_count": 2,
   "metadata": {},
   "outputs": [
    {
     "ename": "ValueError",
     "evalue": "invalid literal for int() with base 10: ''",
     "output_type": "error",
     "traceback": [
      "\u001b[1;31m---------------------------------------------------------------------------\u001b[0m",
      "\u001b[1;31mValueError\u001b[0m                                Traceback (most recent call last)",
      "Cell \u001b[1;32mIn[2], line 21\u001b[0m\n\u001b[0;32m     19\u001b[0m \u001b[38;5;28;01mfor\u001b[39;00m i \u001b[38;5;129;01min\u001b[39;00m \u001b[38;5;28mrange\u001b[39m(\u001b[38;5;241m5\u001b[39m):\n\u001b[0;32m     20\u001b[0m     \u001b[38;5;28;01mwhile\u001b[39;00m \u001b[38;5;28;01mTrue\u001b[39;00m:\n\u001b[1;32m---> 21\u001b[0m         num \u001b[38;5;241m=\u001b[39m \u001b[38;5;28;43mint\u001b[39;49m\u001b[43m(\u001b[49m\u001b[38;5;28;43minput\u001b[39;49m\u001b[43m(\u001b[49m\u001b[38;5;124;43mf\u001b[39;49m\u001b[38;5;124;43m\"\u001b[39;49m\u001b[38;5;124;43mEnter 5 even numbers: \u001b[39;49m\u001b[38;5;124;43m\"\u001b[39;49m\u001b[43m)\u001b[49m\u001b[43m)\u001b[49m\n\u001b[0;32m     22\u001b[0m         \u001b[38;5;28;01mif\u001b[39;00m num \u001b[38;5;241m%\u001b[39m \u001b[38;5;241m2\u001b[39m \u001b[38;5;241m==\u001b[39m \u001b[38;5;241m0\u001b[39m:\n\u001b[0;32m     23\u001b[0m             even_numbers\u001b[38;5;241m.\u001b[39mappend(num)\n",
      "\u001b[1;31mValueError\u001b[0m: invalid literal for int() with base 10: ''"
     ]
    }
   ],
   "source": [
    "\"\"\"2. Write a program to accept 5 even and 5 odd numbers from the user and display :\n",
    "● sum of even numbers,\n",
    "● product of odd numbers\n",
    "● absolute difference of the sum and product.\"\"\"\n",
    "\n",
    "def if_prime(n):\n",
    "    if n <= 1:\n",
    "        return False\n",
    "    for i in range(2, int(n ** 0.5) + 1):\n",
    "        if n % i == 0:\n",
    "            return False\n",
    "    return True\n",
    "\n",
    "# Accepting 5 even and 5 odd numbers from the user\n",
    "even_numbers = []\n",
    "odd_numbers = []\n",
    "\n",
    "# Code block for accepting 5 even numbers from the user\n",
    "for i in range(5):\n",
    "    while True:\n",
    "        num = int(input(f\"Enter 5 even numbers: \"))\n",
    "        if num % 2 == 0:\n",
    "            even_numbers.append(num)\n",
    "            break\n",
    "        else:\n",
    "            print(\"Please enter an even number.\")\n",
    "\n",
    "# Code block for accepting 5 odd numbers from the user\n",
    "for i in range(5):\n",
    "    while True:\n",
    "        num = int(input(f\"Enter 5 odd numbers: \"))\n",
    "        if num % 2 != 0:\n",
    "            odd_numbers.append(num)\n",
    "            break\n",
    "        else:\n",
    "            print(\"Please enter an odd number.\")\n",
    "\n",
    "# Calculating sum of even numbers\n",
    "sum_even = sum(even_numbers)\n",
    "print(\"Sum is:\",sum_even)\n",
    "\n",
    "# Calculating product of odd numbers\n",
    "product_odd = 1\n",
    "for num in odd_numbers:\n",
    "    product_odd *= num\n",
    "print(\"Product is:\",product_odd)\n",
    "\n",
    "# Calculating absolute difference of sum and product\n",
    "absolute_diff = abs(sum_even - product_odd)\n",
    "print(\"Absolute difference is:\",absolute_diff)\n",
    "\n",
    "# Checking if the absolute difference is prime or not\n",
    "if is_prime(absolute_diff):\n",
    "    print(f\"Absolute difference ({absolute_diff}) is a prime number.\")\n",
    "else:\n",
    "    print(f\"Absolute difference ({absolute_diff}) is not a prime number.\")\n"
   ]
  },
  {
   "cell_type": "code",
   "execution_count": null,
   "metadata": {},
   "outputs": [
    {
     "name": "stdout",
     "output_type": "stream",
     "text": [
      "Item name : Chair\n",
      "Item price : 20.99\n",
      "Item quantity : 2\n",
      "Inventory Value : 41.98\n"
     ]
    }
   ],
   "source": [
    "#3. Create a class named Item that holds data about an item in a retail store. The class should\n",
    "#   have the following three properties:\n",
    "\n",
    "class Item:\n",
    "    def __init__(self,name,price,quantity):\n",
    "        self.name = name\n",
    "        self.price = price\n",
    "        self.quantity = quantity\n",
    "\n",
    "    def getName(self):\n",
    "        return self.name\n",
    "\n",
    "    def getPrice(self):\n",
    "        return self.price\n",
    "\n",
    "    def getQuantity(self):\n",
    "        return self.quantity\n",
    "\n",
    "    def getValue(self):\n",
    "        return self.price * self.quantity \n",
    "\n",
    "Item1 = Item(\"Chair\",20.99,2)\n",
    "print(\"Item name :\",Item1.getName()) \n",
    "print(\"Item price :\",float(Item1.getPrice())) \n",
    "print(\"Item quantity :\",Item1.getQuantity()) \n",
    "print(\"Inventory Value :\",float(Item1.getValue()))              \n"
   ]
  },
  {
   "cell_type": "code",
   "execution_count": null,
   "metadata": {},
   "outputs": [
    {
     "name": "stdout",
     "output_type": "stream",
     "text": [
      "\n",
      "9 \n",
      "9 9 \n",
      "9 9 9 \n",
      "9 9 9 9 \n",
      "9 9 9 9 9 \n"
     ]
    }
   ],
   "source": [
    "#1. Ask the user number of rows to be generated of a series. Suppose user enters no. of rows =\n",
    "#   5 then the series shall be :\n",
    "\n",
    "number_of_rows = int(input(\"Enter number of rows: \"))\n",
    "for i in range(number_of_rows+1):\n",
    "    for j in range(i):\n",
    "        print(\"9\",end = \" \")\n",
    "    print()    \n"
   ]
  },
  {
   "cell_type": "code",
   "execution_count": null,
   "metadata": {},
   "outputs": [
    {
     "name": "stdout",
     "output_type": "stream",
     "text": [
      "Your entered number is : 54\n",
      "which is not prime\n"
     ]
    }
   ],
   "source": [
    "#2. Write a program to accept a number from the user and check whether the number entered is\n",
    "#   prime or not.\n",
    "\n",
    "def prime_or_not(number):\n",
    "    print(\"Your entered number is :\",number1)\n",
    "    while True:\n",
    "        if number <=1 :\n",
    "            return print(\"Which is not prime\")\n",
    "        for i in range(2, int(number ** 0.5) + 1):\n",
    "            if number % i == 0:\n",
    "                return print(\"which is not prime\")\n",
    "        return print(\"which is prime\") \n",
    "\n",
    "number1 = int(input(\"Enter number to check :\")) \n",
    "prime_or_not(number1)  \n"
   ]
  },
  {
   "cell_type": "code",
   "execution_count": null,
   "metadata": {},
   "outputs": [
    {
     "name": "stdout",
     "output_type": "stream",
     "text": [
      "Name            Price      Quantity   Value               \n",
      "= = = = = = = = = = = = = = = = = = = = = = \n",
      "Stapler         2.25       15         33.75               \n",
      "\n",
      "Paper           32.99      255        8412.45             \n",
      "\n",
      "Binder          4.75       9          42.75               \n",
      "\n",
      "Total Inventory value is: 8488.95\n"
     ]
    }
   ],
   "source": [
    "class Item:\n",
    "    def __init__(self, name, price, quantity):\n",
    "        self.name = name\n",
    "        self.price = price\n",
    "        self.quantity = quantity\n",
    "\n",
    "    def getName(self):\n",
    "        return self.name\n",
    "\n",
    "    def getPrice(self):\n",
    "        return self.price\n",
    "\n",
    "    def getQuantity(self):\n",
    "        return self.quantity\n",
    "\n",
    "    def getValue(self):\n",
    "        return self.quantity * self.price\n",
    "\n",
    "\n",
    "class Inventory:\n",
    "    def __init__(self):\n",
    "        self.items = []\n",
    "\n",
    "    def generate(self):\n",
    "        # Creating three Item objects\n",
    "        self.items.append(Item(\"Stapler\", 2.25, 15))\n",
    "        self.items.append(Item(\"Paper\", 32.99, 255))\n",
    "        self.items.append(Item(\"Binder\", 4.75, 9))\n",
    "\n",
    "    def getDetails(self):\n",
    "        print(f\"{'Name':<15} {'Price':<10} {'Quantity':<10} {'Value':<20}\")\n",
    "        for i in range(22):\n",
    "            print(\"=\",end = \" \")\n",
    "        total_inventory_value = 0\n",
    "        for item in self.items:\n",
    "            item_value = item.getValue()\n",
    "            total_inventory_value += item_value\n",
    "            print(f\"\\n{item.getName():<15} {item.getPrice():<10.2f} {item.getQuantity():<10} {item_value:<20.2f}\")\n",
    "        print(f\"\\nTotal Inventory value is: {total_inventory_value:.2f}\")\n",
    "\n",
    "\n",
    "# Example usage:\n",
    "inventory = Inventory()\n",
    "inventory.generate()\n",
    "inventory.getDetails()\n"
   ]
  },
  {
   "cell_type": "code",
   "execution_count": null,
   "metadata": {},
   "outputs": [],
   "source": [
    "# Defining a function to check if a number is prime\n",
    "def is_prime(n):\n",
    "  # If the number is less than 2, it is not prime\n",
    "  if n < 2:\n",
    "    return False\n",
    "  # If the number is 2, it is prime\n",
    "  if n == 2:\n",
    "    return True\n",
    "  # If the number is even, it is not prime\n",
    "  if n % 2 == 0:\n",
    "    return False\n",
    "  # Iterate through all the odd numbers from 3 to the square root of n\n",
    "  for i in range(3, int(n**0.5) + 1, 2):\n",
    "    # If any of them divides n evenly, it is not prime\n",
    "    if n % i == 0:\n",
    "      return False\n",
    "  # If none of them divides n evenly, it is prime\n",
    "  return True\n",
    "\n",
    "# Ask the user to enter a number\n",
    "n = int(input(\"Enter a number: \"))\n",
    "\n",
    "# Check if the number is prime and print the result\n",
    "if is_prime(n):\n",
    "  print(n, \"is a prime number.\")\n",
    "else:\n",
    "  print(n, \"is not a prime number.\")\n"
   ]
  }
 ],
 "metadata": {
  "kernelspec": {
   "display_name": "Python 3",
   "language": "python",
   "name": "python3"
  },
  "language_info": {
   "codemirror_mode": {
    "name": "ipython",
    "version": 3
   },
   "file_extension": ".py",
   "mimetype": "text/x-python",
   "name": "python",
   "nbconvert_exporter": "python",
   "pygments_lexer": "ipython3",
   "version": "3.12.4"
  }
 },
 "nbformat": 4,
 "nbformat_minor": 2
}
